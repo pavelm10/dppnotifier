{
 "cells": [
  {
   "cell_type": "code",
   "execution_count": 80,
   "id": "eaef633b",
   "metadata": {},
   "outputs": [],
   "source": [
    "from dataclasses import dataclass\n",
    "from typing import List\n",
    "import re\n",
    "\n",
    "import requests\n",
    "from bs4 import BeautifulSoup"
   ]
  },
  {
   "cell_type": "code",
   "execution_count": 71,
   "id": "bff0b948",
   "metadata": {},
   "outputs": [],
   "source": [
    "url = 'https://pid.cz/mimoradnosti/'"
   ]
  },
  {
   "cell_type": "code",
   "execution_count": 72,
   "id": "a12789e2",
   "metadata": {},
   "outputs": [],
   "source": [
    "@dataclass\n",
    "class TrafficException:\n",
    "    active: bool\n",
    "    lines: List[str]\n",
    "    message: str"
   ]
  },
  {
   "cell_type": "code",
   "execution_count": 73,
   "id": "4d66d204",
   "metadata": {},
   "outputs": [],
   "source": [
    "page = requests.get(url)\n",
    "soup = BeautifulSoup(page.content, \"html.parser\")"
   ]
  },
  {
   "cell_type": "code",
   "execution_count": 74,
   "id": "5356b997",
   "metadata": {},
   "outputs": [],
   "source": [
    "results = soup.find(id=\"st-container\")"
   ]
  },
  {
   "cell_type": "code",
   "execution_count": 75,
   "id": "98a28db2",
   "metadata": {},
   "outputs": [],
   "source": [
    "exception_elements = results.find(\n",
    "    \"table\", class_=\"vyluka vyluka-expand vyluky-vymi\"\n",
    ")"
   ]
  },
  {
   "cell_type": "code",
   "execution_count": 78,
   "id": "de3008f6",
   "metadata": {},
   "outputs": [
    {
     "name": "stdout",
     "output_type": "stream",
     "text": [
      "dnes 14:00 - do odvolání\n",
      "dnes 18:11 - do odvolání\n",
      "dnes 17:21 - do odvolání\n",
      "dnes 17:00 - 18:30\n",
      "dnes 16:30 - 18:30\n",
      "10.8. 06:52 - do odvolání\n",
      "9.8. 12:30 - do odvolání\n",
      "5.8. 08:00 - do odvolání\n",
      "2.8. 13:50 - do odvolání\n",
      "2.8. 04:30 - do odvolání\n"
     ]
    }
   ],
   "source": [
    "dates = exception_elements.find_all('div', class_='date')\n",
    "lines = exception_elements.find_all('span', class_='lines-single')\n",
    "messages = exception_elements.find_all('td', class_='lines-title clickable')\n",
    "\n",
    "issues = []\n",
    "for date, line, message in zip(dates, lines, messages):\n",
    "    date = date.text.strip()\n",
    "    print(date)\n",
    "    line = line.text.strip().split(', ')\n",
    "    msg = message.text.strip()\n",
    "    issue = TrafficException(active='do' in date, lines=line, message=msg)\n",
    "    issues.append(issue)"
   ]
  },
  {
   "cell_type": "code",
   "execution_count": 79,
   "id": "54a6d9d5",
   "metadata": {},
   "outputs": [
    {
     "name": "stdout",
     "output_type": "stream",
     "text": [
      "TrafficException(active=True, lines=['208', '224'], message='Výpadek spojů dopravce Arriva City dne 11.8.2022 - Provoz omezen, Neodjetí spoje')\n",
      "TrafficException(active=True, lines=['846'], message='Ledeč n.Sáz.,,Husovo nám. - Čechtice - Neodjetí spoje')\n",
      "TrafficException(active=True, lines=['S80'], message='Čerčany - Hvězdonice - Zpoždění spojů')\n",
      "TrafficException(active=False, lines=['187'], message='Nádraží Holešovice - Pelc Tyrolka a zpět (linka 187) - Zpoždění spoje')\n",
      "TrafficException(active=False, lines=['112'], message='Nádraží Holešovice - Zoologická zahrada, resp. Podhoří a zpět (linka 112) - Zpoždění spojů')\n",
      "TrafficException(active=True, lines=['651'], message='Mirošovice - Pyšely,nám. - Neodjetí spoje')\n",
      "TrafficException(active=True, lines=['555', '578'], message='Křivoklát,Amalín - Přemístění zastávky')\n",
      "TrafficException(active=True, lines=['425'], message='Králův Dvůr,Popovice,náves - Zrušení zastávky')\n",
      "TrafficException(active=True, lines=['673', '674'], message='Nymburk, Albert hypermarket - Zrušení zastávky')\n",
      "TrafficException(active=True, lines=['110', '140', '158', '166', '202', '377', '915'], message='Čakovice - Přemístění zastávky')\n"
     ]
    }
   ],
   "source": [
    "for iss in issues:\n",
    "    print(iss)"
   ]
  },
  {
   "cell_type": "code",
   "execution_count": 116,
   "id": "2da53ab6",
   "metadata": {},
   "outputs": [
    {
     "name": "stdout",
     "output_type": "stream",
     "text": [
      "None\n"
     ]
    },
    {
     "ename": "AttributeError",
     "evalue": "'NoneType' object has no attribute 'group'",
     "output_type": "error",
     "traceback": [
      "\u001b[0;31m---------------------------------------------------------------------------\u001b[0m",
      "\u001b[0;31mAttributeError\u001b[0m                            Traceback (most recent call last)",
      "Input \u001b[0;32mIn [116]\u001b[0m, in \u001b[0;36m<cell line: 5>\u001b[0;34m()\u001b[0m\n\u001b[1;32m      3\u001b[0m searched \u001b[38;5;241m=\u001b[39m re\u001b[38;5;241m.\u001b[39msearch(p, s)\n\u001b[1;32m      4\u001b[0m \u001b[38;5;28mprint\u001b[39m(searched)\n\u001b[0;32m----> 5\u001b[0m tim \u001b[38;5;241m=\u001b[39m \u001b[43msearched\u001b[49m\u001b[38;5;241;43m.\u001b[39;49m\u001b[43mgroup\u001b[49m()\n\u001b[1;32m      6\u001b[0m tim\n",
      "\u001b[0;31mAttributeError\u001b[0m: 'NoneType' object has no attribute 'group'"
     ]
    }
   ],
   "source": [
    "s = 'dnes 17:00'\n",
    "    p = '[\\d]+.[\\d]+. [\\d]+:[\\d]+'\n",
    "searched = re.search(p, s)\n",
    "print(searched)\n",
    "tim = searched.group()\n",
    "tim"
   ]
  },
  {
   "cell_type": "code",
   "execution_count": 96,
   "id": "c6519fd2",
   "metadata": {},
   "outputs": [],
   "source": [
    "from datetime import datetime"
   ]
  },
  {
   "cell_type": "code",
   "execution_count": 101,
   "id": "e0627395",
   "metadata": {},
   "outputs": [],
   "source": [
    "dt = datetime.strptime(tim, \"%H:%M\")"
   ]
  },
  {
   "cell_type": "code",
   "execution_count": 102,
   "id": "86800cb0",
   "metadata": {},
   "outputs": [
    {
     "data": {
      "text/plain": [
       "datetime.datetime(1900, 1, 1, 12, 12)"
      ]
     },
     "execution_count": 102,
     "metadata": {},
     "output_type": "execute_result"
    }
   ],
   "source": [
    "dt"
   ]
  },
  {
   "cell_type": "code",
   "execution_count": 103,
   "id": "2cb25049",
   "metadata": {},
   "outputs": [],
   "source": [
    "today = datetime.today()"
   ]
  },
  {
   "cell_type": "code",
   "execution_count": 104,
   "id": "33fab509",
   "metadata": {},
   "outputs": [
    {
     "data": {
      "text/plain": [
       "datetime.datetime(2022, 8, 11, 21, 13, 28, 500841)"
      ]
     },
     "execution_count": 104,
     "metadata": {},
     "output_type": "execute_result"
    }
   ],
   "source": [
    "today"
   ]
  },
  {
   "cell_type": "code",
   "execution_count": 106,
   "id": "907bf600",
   "metadata": {},
   "outputs": [],
   "source": [
    "event_time = datetime(today.year, today.month, today.day, dt.hour, dt.minute)"
   ]
  },
  {
   "cell_type": "code",
   "execution_count": 107,
   "id": "8217ad48",
   "metadata": {},
   "outputs": [
    {
     "data": {
      "text/plain": [
       "datetime.datetime(2022, 8, 11, 12, 12)"
      ]
     },
     "execution_count": 107,
     "metadata": {},
     "output_type": "execute_result"
    }
   ],
   "source": [
    "event_time"
   ]
  },
  {
   "cell_type": "code",
   "execution_count": 111,
   "id": "eea8127a",
   "metadata": {},
   "outputs": [
    {
     "data": {
      "text/plain": [
       "['dnes 17:00', '18:30']"
      ]
     },
     "execution_count": 111,
     "metadata": {},
     "output_type": "execute_result"
    }
   ],
   "source": [
    "s.split(' - ')"
   ]
  },
  {
   "cell_type": "code",
   "execution_count": null,
   "id": "7cf974af",
   "metadata": {},
   "outputs": [],
   "source": []
  }
 ],
 "metadata": {
  "kernelspec": {
   "display_name": "Python 3 (ipykernel)",
   "language": "python",
   "name": "python3"
  },
  "language_info": {
   "codemirror_mode": {
    "name": "ipython",
    "version": 3
   },
   "file_extension": ".py",
   "mimetype": "text/x-python",
   "name": "python",
   "nbconvert_exporter": "python",
   "pygments_lexer": "ipython3",
   "version": "3.10.2"
  }
 },
 "nbformat": 4,
 "nbformat_minor": 5
}
